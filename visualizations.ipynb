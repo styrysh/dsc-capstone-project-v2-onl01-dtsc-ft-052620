{
 "cells": [
  {
   "cell_type": "code",
   "execution_count": null,
   "metadata": {},
   "outputs": [],
   "source": [
    "##EDA/Visualizations"
   ]
  },
  {
   "cell_type": "code",
   "execution_count": 2,
   "metadata": {},
   "outputs": [],
   "source": [
    "import pandas as pd"
   ]
  },
  {
   "cell_type": "code",
   "execution_count": 8,
   "metadata": {},
   "outputs": [],
   "source": [
    "##Uploading the datasets\n",
    "df = pd.read_csv('training_vis')"
   ]
  },
  {
   "cell_type": "code",
   "execution_count": 154,
   "metadata": {},
   "outputs": [
    {
     "name": "stdout",
     "output_type": "stream",
     "text": [
      "<class 'pandas.core.frame.DataFrame'>\n",
      "RangeIndex: 844795 entries, 0 to 844794\n",
      "Data columns (total 52 columns):\n",
      "Unnamed: 0                    844795 non-null int64\n",
      "id                            844795 non-null int64\n",
      "loan_amnt                     844795 non-null float64\n",
      "funded_amnt                   844795 non-null float64\n",
      "funded_amnt_inv               844795 non-null float64\n",
      "term                          844795 non-null int64\n",
      "int_rate                      844795 non-null float64\n",
      "installment                   844795 non-null float64\n",
      "grade                         844795 non-null object\n",
      "sub_grade                     844795 non-null object\n",
      "emp_length                    844795 non-null int64\n",
      "home_ownership                844795 non-null object\n",
      "annual_inc                    844795 non-null float64\n",
      "verification_status           844795 non-null object\n",
      "issue_d                       844795 non-null int64\n",
      "loan_status                   844795 non-null object\n",
      "pymnt_plan                    844795 non-null object\n",
      "purpose                       844795 non-null object\n",
      "zip_code                      844795 non-null int64\n",
      "addr_state                    844795 non-null object\n",
      "dti                           844795 non-null float64\n",
      "delinq_2yrs                   844795 non-null float64\n",
      "earliest_cr_line              844795 non-null int64\n",
      "inq_last_6mths                844795 non-null float64\n",
      "open_acc                      844795 non-null float64\n",
      "pub_rec                       844795 non-null float64\n",
      "revol_bal                     844795 non-null float64\n",
      "revol_util                    844795 non-null float64\n",
      "total_acc                     844795 non-null float64\n",
      "initial_list_status           844795 non-null object\n",
      "out_prncp                     844795 non-null float64\n",
      "out_prncp_inv                 844795 non-null float64\n",
      "total_pymnt                   844795 non-null float64\n",
      "total_pymnt_inv               844795 non-null float64\n",
      "total_rec_prncp               844795 non-null float64\n",
      "total_rec_int                 844795 non-null float64\n",
      "total_rec_late_fee            844795 non-null float64\n",
      "recoveries                    844795 non-null float64\n",
      "collection_recovery_fee       844795 non-null float64\n",
      "last_pymnt_d                  844795 non-null int64\n",
      "last_pymnt_amnt               844795 non-null float64\n",
      "next_pymnt_d                  844795 non-null int64\n",
      "last_credit_pull_d            844795 non-null int64\n",
      "collections_12_mths_ex_med    844795 non-null float64\n",
      "policy_code                   844795 non-null float64\n",
      "application_type              844795 non-null object\n",
      "acc_now_delinq                844795 non-null float64\n",
      "tot_coll_amt                  844795 non-null float64\n",
      "tot_cur_bal                   844795 non-null float64\n",
      "total_rev_hi_lim              844795 non-null float64\n",
      "new_emp_title                 844795 non-null object\n",
      "new_next_pymnt_d              844795 non-null object\n",
      "dtypes: float64(30), int64(10), object(12)\n",
      "memory usage: 335.2+ MB\n"
     ]
    }
   ],
   "source": [
    "df.info(verbose = True)"
   ]
  },
  {
   "cell_type": "code",
   "execution_count": 29,
   "metadata": {},
   "outputs": [],
   "source": [
    "df_grouped_state = df.groupby(['addr_state']).mean()"
   ]
  },
  {
   "cell_type": "code",
   "execution_count": 30,
   "metadata": {},
   "outputs": [
    {
     "data": {
      "text/html": [
       "<div>\n",
       "<style scoped>\n",
       "    .dataframe tbody tr th:only-of-type {\n",
       "        vertical-align: middle;\n",
       "    }\n",
       "\n",
       "    .dataframe tbody tr th {\n",
       "        vertical-align: top;\n",
       "    }\n",
       "\n",
       "    .dataframe thead th {\n",
       "        text-align: right;\n",
       "    }\n",
       "</style>\n",
       "<table border=\"1\" class=\"dataframe\">\n",
       "  <thead>\n",
       "    <tr style=\"text-align: right;\">\n",
       "      <th></th>\n",
       "      <th>Unnamed: 0</th>\n",
       "      <th>id</th>\n",
       "      <th>loan_amnt</th>\n",
       "      <th>funded_amnt</th>\n",
       "      <th>funded_amnt_inv</th>\n",
       "      <th>term</th>\n",
       "      <th>int_rate</th>\n",
       "      <th>installment</th>\n",
       "      <th>emp_length</th>\n",
       "      <th>annual_inc</th>\n",
       "      <th>...</th>\n",
       "      <th>last_pymnt_d</th>\n",
       "      <th>last_pymnt_amnt</th>\n",
       "      <th>next_pymnt_d</th>\n",
       "      <th>last_credit_pull_d</th>\n",
       "      <th>collections_12_mths_ex_med</th>\n",
       "      <th>policy_code</th>\n",
       "      <th>acc_now_delinq</th>\n",
       "      <th>tot_coll_amt</th>\n",
       "      <th>tot_cur_bal</th>\n",
       "      <th>total_rev_hi_lim</th>\n",
       "    </tr>\n",
       "    <tr>\n",
       "      <th>addr_state</th>\n",
       "      <th></th>\n",
       "      <th></th>\n",
       "      <th></th>\n",
       "      <th></th>\n",
       "      <th></th>\n",
       "      <th></th>\n",
       "      <th></th>\n",
       "      <th></th>\n",
       "      <th></th>\n",
       "      <th></th>\n",
       "      <th></th>\n",
       "      <th></th>\n",
       "      <th></th>\n",
       "      <th></th>\n",
       "      <th></th>\n",
       "      <th></th>\n",
       "      <th></th>\n",
       "      <th></th>\n",
       "      <th></th>\n",
       "      <th></th>\n",
       "      <th></th>\n",
       "    </tr>\n",
       "  </thead>\n",
       "  <tbody>\n",
       "    <tr>\n",
       "      <td>AK</td>\n",
       "      <td>451141.842378</td>\n",
       "      <td>3.080521e+07</td>\n",
       "      <td>16926.592732</td>\n",
       "      <td>16926.592732</td>\n",
       "      <td>16917.749954</td>\n",
       "      <td>42.999528</td>\n",
       "      <td>13.671402</td>\n",
       "      <td>511.596041</td>\n",
       "      <td>6.308636</td>\n",
       "      <td>76932.941977</td>\n",
       "      <td>...</td>\n",
       "      <td>2015.419066</td>\n",
       "      <td>2564.294903</td>\n",
       "      <td>2016.0</td>\n",
       "      <td>2015.772062</td>\n",
       "      <td>0.010854</td>\n",
       "      <td>1.0</td>\n",
       "      <td>0.001416</td>\n",
       "      <td>182.880604</td>\n",
       "      <td>166629.431807</td>\n",
       "      <td>30935.420481</td>\n",
       "    </tr>\n",
       "    <tr>\n",
       "      <td>AL</td>\n",
       "      <td>466276.735791</td>\n",
       "      <td>3.416529e+07</td>\n",
       "      <td>14858.401773</td>\n",
       "      <td>14857.237517</td>\n",
       "      <td>14850.099859</td>\n",
       "      <td>44.377042</td>\n",
       "      <td>13.838387</td>\n",
       "      <td>434.367820</td>\n",
       "      <td>6.655903</td>\n",
       "      <td>68769.649857</td>\n",
       "      <td>...</td>\n",
       "      <td>2015.456556</td>\n",
       "      <td>2032.413429</td>\n",
       "      <td>2016.0</td>\n",
       "      <td>2015.809893</td>\n",
       "      <td>0.019599</td>\n",
       "      <td>1.0</td>\n",
       "      <td>0.005413</td>\n",
       "      <td>183.889407</td>\n",
       "      <td>144246.151283</td>\n",
       "      <td>28954.708166</td>\n",
       "    </tr>\n",
       "    <tr>\n",
       "      <td>AR</td>\n",
       "      <td>460347.226995</td>\n",
       "      <td>3.415789e+07</td>\n",
       "      <td>14220.026650</td>\n",
       "      <td>14220.026650</td>\n",
       "      <td>14214.560847</td>\n",
       "      <td>43.535977</td>\n",
       "      <td>13.527929</td>\n",
       "      <td>418.974955</td>\n",
       "      <td>6.441762</td>\n",
       "      <td>66058.944634</td>\n",
       "      <td>...</td>\n",
       "      <td>2015.478288</td>\n",
       "      <td>1820.054400</td>\n",
       "      <td>2016.0</td>\n",
       "      <td>2015.813137</td>\n",
       "      <td>0.015676</td>\n",
       "      <td>1.0</td>\n",
       "      <td>0.005957</td>\n",
       "      <td>144.722997</td>\n",
       "      <td>134299.449130</td>\n",
       "      <td>28161.797147</td>\n",
       "    </tr>\n",
       "    <tr>\n",
       "      <td>AZ</td>\n",
       "      <td>464602.645549</td>\n",
       "      <td>3.420497e+07</td>\n",
       "      <td>14372.323904</td>\n",
       "      <td>14371.886231</td>\n",
       "      <td>14364.997414</td>\n",
       "      <td>42.906253</td>\n",
       "      <td>13.169181</td>\n",
       "      <td>426.517710</td>\n",
       "      <td>5.913235</td>\n",
       "      <td>71826.804690</td>\n",
       "      <td>...</td>\n",
       "      <td>2015.423811</td>\n",
       "      <td>2196.661937</td>\n",
       "      <td>2016.0</td>\n",
       "      <td>2015.788736</td>\n",
       "      <td>0.015197</td>\n",
       "      <td>1.0</td>\n",
       "      <td>0.004569</td>\n",
       "      <td>248.694784</td>\n",
       "      <td>150007.695554</td>\n",
       "      <td>30561.163210</td>\n",
       "    </tr>\n",
       "    <tr>\n",
       "      <td>CA</td>\n",
       "      <td>453102.660245</td>\n",
       "      <td>3.273122e+07</td>\n",
       "      <td>14860.961345</td>\n",
       "      <td>14860.359685</td>\n",
       "      <td>14853.071708</td>\n",
       "      <td>42.201558</td>\n",
       "      <td>13.219207</td>\n",
       "      <td>447.628065</td>\n",
       "      <td>6.079817</td>\n",
       "      <td>79724.914120</td>\n",
       "      <td>...</td>\n",
       "      <td>2015.397636</td>\n",
       "      <td>2460.923001</td>\n",
       "      <td>2016.0</td>\n",
       "      <td>2015.761384</td>\n",
       "      <td>0.011648</td>\n",
       "      <td>1.0</td>\n",
       "      <td>0.004284</td>\n",
       "      <td>224.297783</td>\n",
       "      <td>150996.622949</td>\n",
       "      <td>32170.723269</td>\n",
       "    </tr>\n",
       "  </tbody>\n",
       "</table>\n",
       "<p>5 rows × 40 columns</p>\n",
       "</div>"
      ],
      "text/plain": [
       "               Unnamed: 0            id     loan_amnt   funded_amnt  \\\n",
       "addr_state                                                            \n",
       "AK          451141.842378  3.080521e+07  16926.592732  16926.592732   \n",
       "AL          466276.735791  3.416529e+07  14858.401773  14857.237517   \n",
       "AR          460347.226995  3.415789e+07  14220.026650  14220.026650   \n",
       "AZ          464602.645549  3.420497e+07  14372.323904  14371.886231   \n",
       "CA          453102.660245  3.273122e+07  14860.961345  14860.359685   \n",
       "\n",
       "            funded_amnt_inv       term   int_rate  installment  emp_length  \\\n",
       "addr_state                                                                   \n",
       "AK             16917.749954  42.999528  13.671402   511.596041    6.308636   \n",
       "AL             14850.099859  44.377042  13.838387   434.367820    6.655903   \n",
       "AR             14214.560847  43.535977  13.527929   418.974955    6.441762   \n",
       "AZ             14364.997414  42.906253  13.169181   426.517710    5.913235   \n",
       "CA             14853.071708  42.201558  13.219207   447.628065    6.079817   \n",
       "\n",
       "              annual_inc  ...  last_pymnt_d  last_pymnt_amnt  next_pymnt_d  \\\n",
       "addr_state                ...                                                \n",
       "AK          76932.941977  ...   2015.419066      2564.294903        2016.0   \n",
       "AL          68769.649857  ...   2015.456556      2032.413429        2016.0   \n",
       "AR          66058.944634  ...   2015.478288      1820.054400        2016.0   \n",
       "AZ          71826.804690  ...   2015.423811      2196.661937        2016.0   \n",
       "CA          79724.914120  ...   2015.397636      2460.923001        2016.0   \n",
       "\n",
       "            last_credit_pull_d  collections_12_mths_ex_med  policy_code  \\\n",
       "addr_state                                                                \n",
       "AK                 2015.772062                    0.010854          1.0   \n",
       "AL                 2015.809893                    0.019599          1.0   \n",
       "AR                 2015.813137                    0.015676          1.0   \n",
       "AZ                 2015.788736                    0.015197          1.0   \n",
       "CA                 2015.761384                    0.011648          1.0   \n",
       "\n",
       "            acc_now_delinq  tot_coll_amt    tot_cur_bal  total_rev_hi_lim  \n",
       "addr_state                                                                 \n",
       "AK                0.001416    182.880604  166629.431807      30935.420481  \n",
       "AL                0.005413    183.889407  144246.151283      28954.708166  \n",
       "AR                0.005957    144.722997  134299.449130      28161.797147  \n",
       "AZ                0.004569    248.694784  150007.695554      30561.163210  \n",
       "CA                0.004284    224.297783  150996.622949      32170.723269  \n",
       "\n",
       "[5 rows x 40 columns]"
      ]
     },
     "execution_count": 30,
     "metadata": {},
     "output_type": "execute_result"
    }
   ],
   "source": [
    "df_grouped_state.head(5)"
   ]
  },
  {
   "cell_type": "code",
   "execution_count": 143,
   "metadata": {},
   "outputs": [
    {
     "data": {
      "text/plain": [
       "Index(['Unnamed: 0', 'id', 'loan_amnt', 'funded_amnt', 'funded_amnt_inv',\n",
       "       'term', 'int_rate', 'installment', 'emp_length', 'annual_inc',\n",
       "       'issue_d', 'zip_code', 'dti', 'delinq_2yrs', 'earliest_cr_line',\n",
       "       'inq_last_6mths', 'open_acc', 'pub_rec', 'revol_bal', 'revol_util',\n",
       "       'total_acc', 'out_prncp', 'out_prncp_inv', 'total_pymnt',\n",
       "       'total_pymnt_inv', 'total_rec_prncp', 'total_rec_int',\n",
       "       'total_rec_late_fee', 'recoveries', 'collection_recovery_fee',\n",
       "       'last_pymnt_d', 'last_pymnt_amnt', 'next_pymnt_d', 'last_credit_pull_d',\n",
       "       'collections_12_mths_ex_med', 'policy_code', 'acc_now_delinq',\n",
       "       'tot_coll_amt', 'tot_cur_bal', 'total_rev_hi_lim'],\n",
       "      dtype='object')"
      ]
     },
     "execution_count": 143,
     "metadata": {},
     "output_type": "execute_result"
    }
   ],
   "source": [
    "df_grouped_state.columns"
   ]
  },
  {
   "cell_type": "code",
   "execution_count": 131,
   "metadata": {},
   "outputs": [],
   "source": [
    "## Sorting the dataframe by interest rate\n",
    "df_grouped_state_sorted = df_grouped_state.sort_values(by='int_rate', ascending=False)"
   ]
  },
  {
   "cell_type": "code",
   "execution_count": 130,
   "metadata": {},
   "outputs": [],
   "source": [
    "import matplotlib.pyplot as plt\n",
    "import seaborn as sns"
   ]
  },
  {
   "cell_type": "code",
   "execution_count": 140,
   "metadata": {},
   "outputs": [
    {
     "data": {
      "text/plain": [
       "Text(0.5, 1.0, 'Interest Rate by State')"
      ]
     },
     "execution_count": 140,
     "metadata": {},
     "output_type": "execute_result"
    },
    {
     "data": {
      "image/png": "[encoded data removed]",
      "text/plain": [
       "<Figure size 864x576 with 1 Axes>"
      ]
     },
     "metadata": {
      "needs_background": "light"
     },
     "output_type": "display_data"
    }
   ],
   "source": [
    "## bar plot of the interest rate for each state (high to low)\n",
    "df_grouped_state_sorted['int_rate'].plot(kind='bar', figsize=(12, 8))\n",
    "plt.xlabel('State')\n",
    "plt.ylabel('Percent')\n",
    "plt.title('Interest Rate by State')"
   ]
  },
  {
   "cell_type": "code",
   "execution_count": 148,
   "metadata": {},
   "outputs": [],
   "source": [
    "## Sorting the dataframe by employment length\n",
    "df_grouped_state_sorted_emp = df_grouped_state.sort_values(by='emp_length', ascending=False)"
   ]
  },
  {
   "cell_type": "code",
   "execution_count": 151,
   "metadata": {},
   "outputs": [
    {
     "data": {
      "text/plain": [
       "Text(0.5, 1.0, 'Employment Length by State')"
      ]
     },
     "execution_count": 151,
     "metadata": {},
     "output_type": "execute_result"
    },
    {
     "data": {
      "image/png": "[encoded data removed]",
      "text/plain": [
       "<Figure size 864x576 with 1 Axes>"
      ]
     },
     "metadata": {
      "needs_background": "light"
     },
     "output_type": "display_data"
    }
   ],
   "source": [
    "## bar plot of the employment length for each state (high to low)\n",
    "df_grouped_state_sorted_emp['emp_length'].plot(kind='bar', figsize=(12, 8))\n",
    "plt.xlabel('State')\n",
    "plt.ylabel('Years')\n",
    "plt.title('Employment Length by State')"
   ]
  },
  {
   "cell_type": "code",
   "execution_count": 152,
   "metadata": {},
   "outputs": [],
   "source": [
    "## Sorting the dataframe by annual_inc\n",
    "df_grouped_state_sorted_annual_inc = df_grouped_state.sort_values(by='annual_inc', ascending=False)"
   ]
  },
  {
   "cell_type": "code",
   "execution_count": 153,
   "metadata": {},
   "outputs": [
    {
     "data": {
      "text/plain": [
       "Text(0.5, 1.0, 'Annual Income by State')"
      ]
     },
     "execution_count": 153,
     "metadata": {},
     "output_type": "execute_result"
    },
    {
     "data": {
      "image/png": "[encoded data removed]",
      "text/plain": [
       "<Figure size 864x576 with 1 Axes>"
      ]
     },
     "metadata": {
      "needs_background": "light"
     },
     "output_type": "display_data"
    }
   ],
   "source": [
    "## bar plot of the annual_inc for each state (high to low)\n",
    "df_grouped_state_sorted_annual_inc['annual_inc'].plot(kind='bar', figsize=(12, 8))\n",
    "plt.xlabel('State')\n",
    "plt.ylabel('Dollars')\n",
    "plt.title('Annual Income by State')"
   ]
  },
  {
   "cell_type": "code",
   "execution_count": 36,
   "metadata": {},
   "outputs": [],
   "source": [
    "## Determining which states have the highest and lowest interest rates\n",
    "df_grouped_state_min = [df_grouped_state['int_rate'] == df_grouped_state['int_rate'].min()]\n",
    "df_grouped_state_max = [df_grouped_state['int_rate'] == df_grouped_state['int_rate'].max()]"
   ]
  },
  {
   "cell_type": "code",
   "execution_count": 46,
   "metadata": {},
   "outputs": [],
   "source": [
    "my_list = ['ID', 'IA']\n",
    "df_filter  = df_grouped_state[df_grouped_state.index.isin(my_list)]"
   ]
  },
  {
   "cell_type": "code",
   "execution_count": 141,
   "metadata": {},
   "outputs": [
    {
     "data": {
      "text/plain": [
       "[<matplotlib.lines.Line2D at 0x7fd019e69128>]"
      ]
     },
     "execution_count": 141,
     "metadata": {},
     "output_type": "execute_result"
    },
    {
     "data": {
      "image/png": "[encoded data removed]",
      "text/plain": [
       "<Figure size 720x432 with 1 Axes>"
      ]
     },
     "metadata": {
      "needs_background": "light"
     },
     "output_type": "display_data"
    }
   ],
   "source": [
    "## Bar and line plots of the maximum, mean, and minimum interest rates for each state\n",
    "df_filter['int_rate'].plot(kind='bar', figsize=(10,6))\n",
    "plt.xlabel('State')\n",
    "plt.ylabel('percent')\n",
    "plt.title('Maximum, Mean, and Minimum Interest Rates')\n",
    "\n",
    "x = ['IA', 'ID']\n",
    "mean = df_grouped_state['int_rate'].mean()\n",
    "y = [mean, mean]\n",
    "plt.plot(x, y)\n",
    "\n",
    "plt.plot(x, y, color='red', markersize=30, linestyle='-', linewidth=3)"
   ]
  },
  {
   "cell_type": "code",
   "execution_count": null,
   "metadata": {},
   "outputs": [],
   "source": []
  }
 ],
 "metadata": {
  "kernelspec": {
   "display_name": "Python 3",
   "language": "python",
   "name": "python3"
  },
  "language_info": {
   "codemirror_mode": {
    "name": "ipython",
    "version": 3
   },
   "file_extension": ".py",
   "mimetype": "text/x-python",
   "name": "python",
   "nbconvert_exporter": "python",
   "pygments_lexer": "ipython3",
   "version": "3.6.9"
  }
 },
 "nbformat": 4,
 "nbformat_minor": 2
}
