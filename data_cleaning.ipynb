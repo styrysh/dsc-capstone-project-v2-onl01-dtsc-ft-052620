{
 "cells": [
  {
   "cell_type": "code",
   "execution_count": 17,
   "metadata": {},
   "outputs": [],
   "source": [
    "import pandas as pd\n",
    "import numpy as np"
   ]
  },
  {
   "cell_type": "code",
   "execution_count": 2,
   "metadata": {},
   "outputs": [
    {
     "name": "stderr",
     "output_type": "stream",
     "text": [
      "/Users/alextyryshkin/opt/anaconda3/envs/learn-env/lib/python3.6/site-packages/IPython/core/interactiveshell.py:3058: DtypeWarning: Columns (19,55) have mixed types. Specify dtype option on import or set low_memory=False.\n",
      "  interactivity=interactivity, compiler=compiler, result=result)\n",
      "/Users/alextyryshkin/opt/anaconda3/envs/learn-env/lib/python3.6/site-packages/IPython/core/interactiveshell.py:3058: DtypeWarning: Columns (18,54) have mixed types. Specify dtype option on import or set low_memory=False.\n",
      "  interactivity=interactivity, compiler=compiler, result=result)\n"
     ]
    }
   ],
   "source": [
    "##Uploading the datasets\n",
    "df_training = pd.read_csv('lc_loan.csv')\n",
    "df_test = pd.read_csv('lc_2016_2017.csv')"
   ]
  },
  {
   "cell_type": "code",
   "execution_count": 4,
   "metadata": {},
   "outputs": [],
   "source": [
    "## Creating a list of columns where the number of missing values is 866007\n",
    "columns_866007 = []\n",
    "for col in columns:\n",
    "    if df_training[col].isna().sum() == 866007:\n",
    "        columns_866007.append(col)\n",
    "        "
   ]
  },
  {
   "cell_type": "code",
   "execution_count": 5,
   "metadata": {},
   "outputs": [
    {
     "data": {
      "text/plain": [
       "id                         0\n",
       "member_id                  0\n",
       "loan_amnt                  0\n",
       "funded_amnt                0\n",
       "funded_amnt_inv            0\n",
       "                       ...  \n",
       "tot_coll_amt           70276\n",
       "tot_cur_bal            70276\n",
       "mths_since_rcnt_il    866569\n",
       "il_util               868762\n",
       "total_rev_hi_lim       70276\n",
       "Length: 62, dtype: int64"
      ]
     },
     "execution_count": 5,
     "metadata": {},
     "output_type": "execute_result"
    }
   ],
   "source": [
    "## Dropping the columns with 866007 missing values from the dataframe\n",
    "df_training = df_training.drop(columns_866007, 1)\n",
    "df_training.isna().sum()"
   ]
  },
  {
   "cell_type": "code",
   "execution_count": 6,
   "metadata": {},
   "outputs": [],
   "source": [
    "### The other columns to drop are:\n",
    "list_one = ['member_id', 'mths_since_rcnt_il','il_util','annual_inc_joint'] \n",
    "list_two = ['dti_joint', 'verification_status_joint', 'mths_since_last_major_derog', 'desc']\n",
    "list_three = ['url', 'title']"
   ]
  },
  {
   "cell_type": "code",
   "execution_count": 7,
   "metadata": {},
   "outputs": [],
   "source": [
    "## Dropping the columns from list_one\n",
    "df_training = df_training.drop(list_one, 1)"
   ]
  },
  {
   "cell_type": "code",
   "execution_count": 8,
   "metadata": {},
   "outputs": [],
   "source": [
    "## Dropping the columns from list_two\n",
    "df_training = df_training.drop(list_two, 1)"
   ]
  },
  {
   "cell_type": "code",
   "execution_count": 16,
   "metadata": {},
   "outputs": [],
   "source": [
    "## We are now working with df_training_one ##\n",
    "df_training_one = df_training\n"
   ]
  },
  {
   "cell_type": "code",
   "execution_count": 22,
   "metadata": {},
   "outputs": [],
   "source": [
    "## Putting values in 'emp_title' with value_counts below 5000 into the category other\n",
    "x = df_training_one['emp_title'].value_counts()\n",
    "df_training_one['new_emp_title'] = np.where(df_training_one['emp_title'].isin(x.index[x >= 5000]), df_training_one['emp_title'], 'Other')"
   ]
  },
  {
   "cell_type": "code",
   "execution_count": 30,
   "metadata": {},
   "outputs": [],
   "source": [
    "## We are now working with df_training_two\n",
    "## Dropping the column 'emp_title'\n",
    "df_training_two = df_training_one.drop('emp_title', 1)"
   ]
  },
  {
   "cell_type": "code",
   "execution_count": 35,
   "metadata": {},
   "outputs": [],
   "source": [
    "df_training_two['collections_12_mths_ex_med'].fillna(method ='ffill', inplace = True)"
   ]
  },
  {
   "cell_type": "code",
   "execution_count": 37,
   "metadata": {},
   "outputs": [],
   "source": [
    "df_training_two['emp_length'].fillna(method ='ffill', inplace = True)"
   ]
  },
  {
   "cell_type": "code",
   "execution_count": 38,
   "metadata": {},
   "outputs": [],
   "source": [
    "df_training_two['last_pymnt_d'].fillna(method ='ffill', inplace = True)"
   ]
  },
  {
   "cell_type": "code",
   "execution_count": 39,
   "metadata": {},
   "outputs": [],
   "source": [
    "df_training_two['tot_coll_amt'].fillna(method ='ffill', inplace = True)"
   ]
  },
  {
   "cell_type": "code",
   "execution_count": 40,
   "metadata": {},
   "outputs": [],
   "source": [
    "df_training_two['tot_cur_bal'].fillna(method ='ffill', inplace = True)"
   ]
  },
  {
   "cell_type": "code",
   "execution_count": 41,
   "metadata": {},
   "outputs": [],
   "source": [
    "df_training_two['total_rev_hi_lim'].fillna(method ='ffill', inplace = True)"
   ]
  },
  {
   "cell_type": "code",
   "execution_count": 42,
   "metadata": {},
   "outputs": [],
   "source": [
    "df_training_two['revol_util'].fillna(method ='bfill', inplace = True)"
   ]
  },
  {
   "cell_type": "code",
   "execution_count": 83,
   "metadata": {},
   "outputs": [],
   "source": [
    "## Dropping rows where column 'delinq_2yrs' has missing values\n",
    "df_training_two.dropna(axis=0, subset=['delinq_2yrs'], inplace = True)\n"
   ]
  },
  {
   "cell_type": "code",
   "execution_count": 84,
   "metadata": {},
   "outputs": [],
   "source": [
    "df_training_two.dropna(axis=0, subset=['revol_util'], inplace = True)"
   ]
  },
  {
   "cell_type": "code",
   "execution_count": 85,
   "metadata": {},
   "outputs": [],
   "source": [
    "df_training_two.dropna(axis=0, subset=['last_credit_pull_d'], inplace = True)"
   ]
  },
  {
   "cell_type": "code",
   "execution_count": 86,
   "metadata": {},
   "outputs": [],
   "source": [
    "df_training_two.dropna(axis=0, subset=['tot_coll_amt'], inplace = True)"
   ]
  },
  {
   "cell_type": "code",
   "execution_count": 88,
   "metadata": {},
   "outputs": [],
   "source": [
    "mths_since_list = ['mths_since_last_delinq', 'mths_since_last_record']\n",
    "df_training_three = df_training_two.drop(mths_since_list, 1)"
   ]
  },
  {
   "cell_type": "code",
   "execution_count": 95,
   "metadata": {},
   "outputs": [],
   "source": [
    "## There are no more missing values at this point\n",
    "df_training_obj = df_training_three"
   ]
  },
  {
   "cell_type": "code",
   "execution_count": null,
   "metadata": {},
   "outputs": [],
   "source": []
  },
  {
   "cell_type": "code",
   "execution_count": null,
   "metadata": {},
   "outputs": [],
   "source": [
    "### DEALING WITH OBJECTS"
   ]
  },
  {
   "cell_type": "code",
   "execution_count": null,
   "metadata": {},
   "outputs": [],
   "source": []
  },
  {
   "cell_type": "code",
   "execution_count": 93,
   "metadata": {},
   "outputs": [],
   "source": [
    "## Dealing with objects ## converting to int64 or dummy variables  ##\n",
    "list_obj_one = ['term', 'grade', 'sub_grade', 'emp_length', 'home_ownership', 'verification_status']\n",
    "list_obj_two = ['issue_d', 'loan_status', 'pymnt_plan', 'purpose', 'zip_code', 'addr_state', 'earliest_cr_line']\n",
    "list_obj_three = ['initial_list_status', 'last_pymnt_d', 'next_pymnt_d', 'last_credit_pull_d', 'application_type']\n",
    "list_obj_four = ['new_emp_title', 'new_next_pymnt_d']"
   ]
  },
  {
   "cell_type": "code",
   "execution_count": null,
   "metadata": {},
   "outputs": [],
   "source": [
    "## Code template to convert to int 64\n",
    "# df_training_obj['term'] = df_training_obj.term.str.extract('(\\d+)')\n",
    "# df_training_obj['term'] = df_training_obj['term'].astype('int64')"
   ]
  },
  {
   "cell_type": "code",
   "execution_count": 96,
   "metadata": {},
   "outputs": [],
   "source": [
    "df_training_obj['term'] = df_training_obj.term.str.extract('(\\d+)')\n",
    "df_training_obj['term'] = df_training_obj['term'].astype('int64')"
   ]
  },
  {
   "cell_type": "code",
   "execution_count": 97,
   "metadata": {},
   "outputs": [],
   "source": [
    "df_training_obj['emp_length'] = df_training_obj.emp_length.str.extract('(\\d+)')\n",
    "df_training_obj['emp_length'] = df_training_obj['emp_length'].astype('int64')"
   ]
  },
  {
   "cell_type": "code",
   "execution_count": 98,
   "metadata": {},
   "outputs": [],
   "source": [
    "df_training_obj['earliest_cr_line'] = df_training_obj.earliest_cr_line.str.extract('(\\d+)')\n",
    "df_training_obj['earliest_cr_line'] = df_training_obj['earliest_cr_line'].astype('int64')"
   ]
  },
  {
   "cell_type": "code",
   "execution_count": 99,
   "metadata": {},
   "outputs": [],
   "source": [
    "df_training_obj['issue_d'] = df_training_obj.issue_d.str.extract('(\\d+)')\n",
    "df_training_obj['issue_d'] = df_training_obj['issue_d'].astype('int64')"
   ]
  },
  {
   "cell_type": "code",
   "execution_count": 100,
   "metadata": {},
   "outputs": [],
   "source": [
    "df_training_obj['zip_code'] = df_training_obj.zip_code.str.extract('(\\d+)')\n",
    "df_training_obj['zip_code'] = df_training_obj['zip_code'].astype('int64')"
   ]
  },
  {
   "cell_type": "code",
   "execution_count": 101,
   "metadata": {},
   "outputs": [],
   "source": [
    "df_training_obj['last_pymnt_d'] = df_training_obj.last_pymnt_d.str.extract('(\\d+)')\n",
    "df_training_obj['last_pymnt_d'] = df_training_obj['last_pymnt_d'].astype('int64')"
   ]
  },
  {
   "cell_type": "code",
   "execution_count": 102,
   "metadata": {},
   "outputs": [],
   "source": [
    "df_training_obj['last_credit_pull_d'] = df_training_obj.last_credit_pull_d.str.extract('(\\d+)')\n",
    "df_training_obj['last_credit_pull_d'] = df_training_obj['last_credit_pull_d'].astype('int64')"
   ]
  },
  {
   "cell_type": "code",
   "execution_count": 265,
   "metadata": {},
   "outputs": [],
   "source": [
    "## All numbers hidden in objects were converted into int64\n",
    "df_training_dummy = df_training_obj"
   ]
  },
  {
   "cell_type": "code",
   "execution_count": 104,
   "metadata": {},
   "outputs": [],
   "source": [
    "## Code template to convert to dummy variable\n",
    "# df_training_dummy['pymnt_plan']\n",
    "# df_training_dummy = pd.concat([df_training_dummy.drop('pymnt_plan', axis = 1), pd.get_dummies(df_training_dummy['pymnt_plan'], prefix = 'pymnt_plan')], axis = 1)"
   ]
  },
  {
   "cell_type": "code",
   "execution_count": 390,
   "metadata": {},
   "outputs": [],
   "source": [
    "df_training_obj.to_csv('training_vis')"
   ]
  },
  {
   "cell_type": "code",
   "execution_count": 266,
   "metadata": {},
   "outputs": [],
   "source": [
    "df_training_dummy = pd.concat([df_training_dummy.drop('initial_list_status', axis = 1), pd.get_dummies(df_training_dummy['initial_list_status'], prefix = 'initial_list_status')], axis = 1)"
   ]
  },
  {
   "cell_type": "code",
   "execution_count": 267,
   "metadata": {},
   "outputs": [],
   "source": [
    "df_training_dummy = pd.concat([df_training_dummy.drop('home_ownership', axis = 1), pd.get_dummies(df_training_dummy['home_ownership'], prefix = 'home_ownership')], axis = 1)"
   ]
  },
  {
   "cell_type": "code",
   "execution_count": 268,
   "metadata": {},
   "outputs": [],
   "source": [
    "df_training_dummy = pd.concat([df_training_dummy.drop('pymnt_plan', axis = 1), pd.get_dummies(df_training_dummy['pymnt_plan'], prefix = 'pymnt_plan')], axis = 1)\n"
   ]
  },
  {
   "cell_type": "code",
   "execution_count": 269,
   "metadata": {},
   "outputs": [],
   "source": [
    "df_training_dummy = pd.concat([df_training_dummy.drop('purpose', axis = 1), pd.get_dummies(df_training_dummy['purpose'], prefix = 'purpose')], axis = 1)"
   ]
  },
  {
   "cell_type": "code",
   "execution_count": 270,
   "metadata": {},
   "outputs": [],
   "source": [
    "df_training_dummy = pd.concat([df_training_dummy.drop('addr_state', axis = 1), pd.get_dummies(df_training_dummy['addr_state'], prefix = 'addr_state')], axis = 1)\n"
   ]
  },
  {
   "cell_type": "code",
   "execution_count": 112,
   "metadata": {},
   "outputs": [],
   "source": [
    "#df_training_dummy = pd.concat([df_training_dummy.drop('application_type', axis = 1), pd.get_dummies(df_training_dummy['application_type'], prefix = 'application_type')], axis = 1)"
   ]
  },
  {
   "cell_type": "code",
   "execution_count": 113,
   "metadata": {},
   "outputs": [],
   "source": [
    "df_training_dummy = pd.concat([df_training_dummy.drop('new_emp_title', axis = 1), pd.get_dummies(df_training_dummy['new_emp_title'], prefix = 'new_emp_title')], axis = 1)"
   ]
  },
  {
   "cell_type": "code",
   "execution_count": 275,
   "metadata": {},
   "outputs": [],
   "source": [
    "## DELETING COLUMNS 'next_pymnt_d' and 'new_next_pymnt_d'\n",
    "missed_obj_to_drop = ['next_pymnt_d', 'new_next_pymnt_d']\n",
    "df_training_dummy_two = df_training_dummy.drop(missed_obj_to_drop, 1)"
   ]
  },
  {
   "cell_type": "code",
   "execution_count": 290,
   "metadata": {},
   "outputs": [],
   "source": [
    "## Putting values in 'grade' with value_counts below 100000 into the category grade_EFG\n",
    "x = df_training_dummy_two['grade'].value_counts()\n",
    "df_training_dummy_two['grade_ABCD'] = np.where(df_training_dummy_two['grade'].isin(x.index[x >= 100000]), df_training_dummy_two['grade'], 'grade_EFG')"
   ]
  },
  {
   "cell_type": "code",
   "execution_count": 291,
   "metadata": {},
   "outputs": [],
   "source": [
    "## Creating dummy variables for a column 'grade'\n",
    "df_training_dummy_two = pd.concat([df_training_dummy_two.drop('grade_ABCD', axis = 1), pd.get_dummies(df_training_dummy_two['grade_ABCD'], prefix = 'grade_ABCD')], axis = 1)"
   ]
  },
  {
   "cell_type": "code",
   "execution_count": 278,
   "metadata": {},
   "outputs": [],
   "source": [
    "## Putting values in 'verification_status' with value_counts below 270000 into the category Not_verified\n",
    "x = df_training_dummy_two['verification_status'].value_counts()\n",
    "df_training_dummy_two['Verified'] = np.where(df_training_dummy_two['verification_status'].isin(x.index[x >= 270000]), df_training_dummy_two['verification_status'], 'Not_verified')"
   ]
  },
  {
   "cell_type": "code",
   "execution_count": 279,
   "metadata": {},
   "outputs": [],
   "source": [
    "## Creating dummy variables for a column 'verification_status'\n",
    "df_training_dummy_two = pd.concat([df_training_dummy_two.drop('Verified', axis = 1), pd.get_dummies(df_training_dummy_two['Verified'], prefix = 'verified')], axis = 1)"
   ]
  },
  {
   "cell_type": "code",
   "execution_count": 281,
   "metadata": {},
   "outputs": [],
   "source": [
    "df_training_dummy_two = df_training_dummy"
   ]
  },
  {
   "cell_type": "code",
   "execution_count": 300,
   "metadata": {},
   "outputs": [],
   "source": [
    "df_training_dummy_three = df_training_dummy_two"
   ]
  },
  {
   "cell_type": "code",
   "execution_count": 301,
   "metadata": {},
   "outputs": [],
   "source": [
    "sub_to_drop_A = ['sub_grade_ABCD_A1', 'sub_grade_ABCD_A2', 'sub_grade_ABCD_A3', 'sub_grade_ABCD_A4', 'sub_grade_ABCD_A5']\n",
    "sub_to_drop_B = ['sub_grade_ABCD_B1', 'sub_grade_ABCD_B2', 'sub_grade_ABCD_B3', 'sub_grade_ABCD_B4', 'sub_grade_ABCD_B5']\n",
    "sub_to_drop_C = ['sub_grade_ABCD_C1', 'sub_grade_ABCD_C2', 'sub_grade_ABCD_C3', 'sub_grade_ABCD_C4', 'sub_grade_ABCD_C5']\n",
    "sub_to_drop_defg = ['sub_grade_ABCD_D1', 'sub_grade_ABCD_D2', 'sub_grade_ABCD_D3', 'sub_grade_ABCD_D4', 'sub_grade_ABCD_D5','sub_grade_ABCD_sub_grade_EFG']"
   ]
  },
  {
   "cell_type": "code",
   "execution_count": 302,
   "metadata": {},
   "outputs": [],
   "source": [
    "df_training_dummy_three = df_training_dummy_three.drop(sub_to_drop_A, 1)"
   ]
  },
  {
   "cell_type": "code",
   "execution_count": 303,
   "metadata": {},
   "outputs": [],
   "source": [
    "df_training_dummy_three = df_training_dummy_three.drop(sub_to_drop_B, 1)"
   ]
  },
  {
   "cell_type": "code",
   "execution_count": 304,
   "metadata": {},
   "outputs": [],
   "source": [
    "df_training_dummy_three = df_training_dummy_three.drop(sub_to_drop_C, 1)"
   ]
  },
  {
   "cell_type": "code",
   "execution_count": 305,
   "metadata": {},
   "outputs": [],
   "source": [
    "df_training_dummy_three = df_training_dummy_three.drop(sub_to_drop_defg, 1)"
   ]
  },
  {
   "cell_type": "code",
   "execution_count": 319,
   "metadata": {},
   "outputs": [],
   "source": [
    "df_training_dummy_three = df_training_dummy_three.drop('next_pymnt_d', 1)"
   ]
  },
  {
   "cell_type": "code",
   "execution_count": 321,
   "metadata": {},
   "outputs": [],
   "source": [
    "df_training_dummy_three = df_training_dummy_three.drop('purpose_educational', 1)"
   ]
  },
  {
   "cell_type": "code",
   "execution_count": 315,
   "metadata": {},
   "outputs": [],
   "source": [
    "df_training_dummy_four = df_training_dummy_three"
   ]
  },
  {
   "cell_type": "code",
   "execution_count": 336,
   "metadata": {},
   "outputs": [],
   "source": [
    "ls_four_drop = ['grade', 'sub_grade', 'verification_status', 'application_type', 'new_emp_title', 'new_next_pymnt_d']\n",
    "df_training_dummy_four = df_training_dummy_four.drop(ls_four_drop, 1)"
   ]
  },
  {
   "cell_type": "code",
   "execution_count": 340,
   "metadata": {},
   "outputs": [],
   "source": [
    "df_training_dummy_four = df_training_dummy_four.drop('next_pymnt_d', 1)"
   ]
  },
  {
   "cell_type": "code",
   "execution_count": null,
   "metadata": {},
   "outputs": [],
   "source": [
    "### predictor variable ### ### 'loan_status' ###"
   ]
  },
  {
   "cell_type": "code",
   "execution_count": 344,
   "metadata": {},
   "outputs": [],
   "source": [
    "x = df_training_dummy_four['loan_status'].value_counts()\n",
    "df_training_dummy_four['loan_status_current'] = np.where(df_training_dummy_four['loan_status'].isin(x.index[x >= 100000]), df_training_dummy_four['loan_status'], 'Current')"
   ]
  },
  {
   "cell_type": "code",
   "execution_count": 345,
   "metadata": {},
   "outputs": [],
   "source": [
    "x = df_training_dummy_four['loan_status'].value_counts()\n",
    "df_training_dummy_four['loan_status_late'] = np.where(df_training_dummy_four['loan_status'].isin(x.index[x <= 40000]), df_training_dummy_four['loan_status'], 'Late')"
   ]
  },
  {
   "cell_type": "code",
   "execution_count": 346,
   "metadata": {},
   "outputs": [],
   "source": [
    "di = {\"Current\": 0, \"Fully Paid\": 1, \"Late\": 2}"
   ]
  },
  {
   "cell_type": "code",
   "execution_count": 347,
   "metadata": {},
   "outputs": [],
   "source": [
    "df_training_dummy_four = df_training_dummy_four.replace({\"loan_status_current\": di})"
   ]
  },
  {
   "cell_type": "code",
   "execution_count": 348,
   "metadata": {},
   "outputs": [
    {
     "data": {
      "text/plain": [
       "0    669237\n",
       "1    175558\n",
       "Name: loan_status_current, dtype: int64"
      ]
     },
     "execution_count": 348,
     "metadata": {},
     "output_type": "execute_result"
    }
   ],
   "source": [
    "df_training_dummy_four[\"loan_status_current\"].value_counts()"
   ]
  },
  {
   "cell_type": "code",
   "execution_count": null,
   "metadata": {},
   "outputs": [],
   "source": []
  },
  {
   "cell_type": "code",
   "execution_count": 367,
   "metadata": {},
   "outputs": [],
   "source": [
    "df_training_dummy_five = df_training_dummy_four"
   ]
  },
  {
   "cell_type": "code",
   "execution_count": 369,
   "metadata": {},
   "outputs": [],
   "source": [
    "loan_drop = ['loan_status', 'loan_status_late']\n",
    "df_training_dummy_five = df_training_dummy_five.drop(loan_drop, 1)"
   ]
  },
  {
   "cell_type": "code",
   "execution_count": 378,
   "metadata": {},
   "outputs": [],
   "source": [
    "df_training_dummy_five['loan_status_current'] = df_training_dummy_five['loan_status_current'].astype('int64')"
   ]
  },
  {
   "cell_type": "code",
   "execution_count": 389,
   "metadata": {},
   "outputs": [],
   "source": [
    "### Exporting the cleaned training dataset\n",
    "df_training_dummy_five.to_csv('training_clean')"
   ]
  },
  {
   "cell_type": "code",
   "execution_count": null,
   "metadata": {},
   "outputs": [],
   "source": [
    "######"
   ]
  },
  {
   "cell_type": "code",
   "execution_count": null,
   "metadata": {},
   "outputs": [],
   "source": []
  },
  {
   "cell_type": "code",
   "execution_count": null,
   "metadata": {},
   "outputs": [],
   "source": []
  },
  {
   "cell_type": "code",
   "execution_count": null,
   "metadata": {},
   "outputs": [],
   "source": [
    "###"
   ]
  },
  {
   "cell_type": "code",
   "execution_count": null,
   "metadata": {},
   "outputs": [],
   "source": [
    "## REPEATING THE PROCESS FOR df_test"
   ]
  },
  {
   "cell_type": "code",
   "execution_count": null,
   "metadata": {},
   "outputs": [],
   "source": [
    "###"
   ]
  },
  {
   "cell_type": "code",
   "execution_count": 173,
   "metadata": {},
   "outputs": [],
   "source": [
    "#Saving the progress made in removing columns from df_test\n",
    "#Columns removed:\n",
    "ls_one = ['annual_inc_joint', 'dti_joint', 'verification_status_joint', 'desc', 'member_id']\n",
    "ls_two = ['mths_since_last_delinq', 'mths_since_last_record']\n",
    "df_test_one = df_test"
   ]
  },
  {
   "cell_type": "code",
   "execution_count": 176,
   "metadata": {},
   "outputs": [],
   "source": [
    "\n",
    "## Putting values in 'emp_title' with value_counts below 5000 into the category other '6406'\n",
    "x = df_test_one['emp_title'].value_counts()\n",
    "df_test_one['new_emp_title'] = np.where(df_test_one['emp_title'].isin(x.index[x >= 5000]), df_test_one['emp_title'], 'Other')"
   ]
  },
  {
   "cell_type": "code",
   "execution_count": 177,
   "metadata": {},
   "outputs": [],
   "source": [
    "## We are now working with df_test_two\n",
    "## Dropping the column 'emp_title'\n",
    "df_test_two = df_test_one.drop('emp_title', 1)"
   ]
  },
  {
   "cell_type": "code",
   "execution_count": 179,
   "metadata": {},
   "outputs": [],
   "source": [
    "## Using ffill to fill the replace the missing values in the columns in the list\n",
    "ffill_col_list = ['collections_12_mths_ex_med', 'emp_length', 'last_pymnt_d', 'tot_coll_amt', 'tot_cur_bal', 'total_rev_hi_lim']\n",
    "for col in ffill_col_list:\n",
    "    df_test_two[col].fillna(method ='ffill', inplace = True)"
   ]
  },
  {
   "cell_type": "code",
   "execution_count": 180,
   "metadata": {},
   "outputs": [],
   "source": [
    "## Using bfill to fill the missing values in column 'revol_util'\n",
    "df_test_two['revol_util'].fillna(method ='bfill', inplace = True)"
   ]
  },
  {
   "cell_type": "code",
   "execution_count": 184,
   "metadata": {},
   "outputs": [],
   "source": [
    "## Dropping rows where column 'delinq_2yrs' has missing values\n",
    "df_test_two.dropna(axis=0, subset=['delinq_2yrs'], inplace = True)"
   ]
  },
  {
   "cell_type": "code",
   "execution_count": 185,
   "metadata": {},
   "outputs": [],
   "source": [
    "df_test_two.dropna(axis=0, subset=['revol_util'], inplace = True)"
   ]
  },
  {
   "cell_type": "code",
   "execution_count": 186,
   "metadata": {},
   "outputs": [],
   "source": [
    "df_test_two.dropna(axis=0, subset=['last_credit_pull_d'], inplace = True)"
   ]
  },
  {
   "cell_type": "code",
   "execution_count": 187,
   "metadata": {},
   "outputs": [],
   "source": [
    "df_test_two.dropna(axis=0, subset=['tot_coll_amt'], inplace = True)"
   ]
  },
  {
   "cell_type": "code",
   "execution_count": 211,
   "metadata": {},
   "outputs": [],
   "source": [
    "## Setting df_test_three equal to df_test_two\n",
    "df_test_three = df_test_two"
   ]
  },
  {
   "cell_type": "code",
   "execution_count": 212,
   "metadata": {},
   "outputs": [],
   "source": [
    "## Dropping the columns with missing values\n",
    "df_test_three = df_test_three.drop('inq_fi', 1)\n",
    "df_test_three = df_test_three.drop('total_cu_tl', 1)"
   ]
  },
  {
   "cell_type": "code",
   "execution_count": 213,
   "metadata": {},
   "outputs": [],
   "source": [
    "## Deleting columns open_acc_6m, open_il_12m, and open_il_24m\n",
    "open_ls = ['open_acc_6m', 'open_il_12m', 'open_il_24m']\n",
    "df_test_three = df_test_three.drop(open_ls, 1)"
   ]
  },
  {
   "cell_type": "code",
   "execution_count": 214,
   "metadata": {},
   "outputs": [],
   "source": [
    "## Dropping more columns with missing values\n",
    "del_test_one = ['mths_since_rcnt_il', 'total_bal_il', 'il_util'] \n",
    "del_test_two = ['open_rv_12m', 'open_rv_24m', 'max_bal_bc']\n",
    "del_test_three = ['all_util', 'inq_last_12m']\n",
    "df_test_three = df_test_three.drop(del_test_one, 1)\n",
    "df_test_three = df_test_three.drop(del_test_two, 1)\n",
    "df_test_three = df_test_three.drop(del_test_three, 1)"
   ]
  },
  {
   "cell_type": "code",
   "execution_count": 235,
   "metadata": {},
   "outputs": [],
   "source": [
    "## There are no more missing values at this point\n",
    "df_test_obj = df_test_three"
   ]
  },
  {
   "cell_type": "code",
   "execution_count": null,
   "metadata": {},
   "outputs": [],
   "source": []
  },
  {
   "cell_type": "code",
   "execution_count": 237,
   "metadata": {},
   "outputs": [],
   "source": [
    "## Code template to convert to int 64\n",
    "# df_test_obj['term'] = df_test_obj.term.str.extract('(\\d+)')\n",
    "# df_test_obj['term'] = df_test_obj['term'].astype('int64')"
   ]
  },
  {
   "cell_type": "code",
   "execution_count": 238,
   "metadata": {},
   "outputs": [],
   "source": [
    "df_test_obj['term'] = df_test_obj.term.str.extract('(\\d+)')\n",
    "df_test_obj['term'] = df_test_obj['term'].astype('int64')"
   ]
  },
  {
   "cell_type": "code",
   "execution_count": 239,
   "metadata": {},
   "outputs": [],
   "source": [
    "df_test_obj['emp_length'] = df_test_obj.emp_length.str.extract('(\\d+)')\n",
    "df_test_obj['emp_length'] = df_test_obj['emp_length'].astype('int64')"
   ]
  },
  {
   "cell_type": "code",
   "execution_count": 240,
   "metadata": {},
   "outputs": [],
   "source": [
    "df_test_obj['earliest_cr_line'] = df_test_obj.earliest_cr_line.str.extract('(\\d+)')\n",
    "df_test_obj['earliest_cr_line'] = df_test_obj['earliest_cr_line'].astype('int64')"
   ]
  },
  {
   "cell_type": "code",
   "execution_count": 241,
   "metadata": {},
   "outputs": [],
   "source": [
    "df_test_obj['issue_d'] = df_test_obj.issue_d.str.extract('(\\d+)')\n",
    "df_test_obj['issue_d'] = df_test_obj['issue_d'].astype('int64')"
   ]
  },
  {
   "cell_type": "code",
   "execution_count": 242,
   "metadata": {},
   "outputs": [],
   "source": [
    "df_test_obj['zip_code'] = df_test_obj.zip_code.str.extract('(\\d+)')\n",
    "df_test_obj['zip_code'] = df_test_obj['zip_code'].astype('int64')"
   ]
  },
  {
   "cell_type": "code",
   "execution_count": 243,
   "metadata": {},
   "outputs": [],
   "source": [
    "df_test_obj['last_pymnt_d'] = df_test_obj.last_pymnt_d.str.extract('(\\d+)')\n",
    "df_test_obj['last_pymnt_d'] = df_test_obj['last_pymnt_d'].astype('int64')"
   ]
  },
  {
   "cell_type": "code",
   "execution_count": 244,
   "metadata": {},
   "outputs": [],
   "source": [
    "df_test_obj['last_credit_pull_d'] = df_test_obj.last_credit_pull_d.str.extract('(\\d+)')\n",
    "df_test_obj['last_credit_pull_d'] = df_test_obj['last_credit_pull_d'].astype('int64')"
   ]
  },
  {
   "cell_type": "code",
   "execution_count": 246,
   "metadata": {},
   "outputs": [],
   "source": [
    "## All numbers hidden in objects were converted into int64\n",
    "df_test_dummy = df_test_obj"
   ]
  },
  {
   "cell_type": "code",
   "execution_count": null,
   "metadata": {},
   "outputs": [],
   "source": []
  },
  {
   "cell_type": "code",
   "execution_count": null,
   "metadata": {},
   "outputs": [],
   "source": [
    "## Code template to convert to dummy variable\n",
    "# df_test_dummy['pymnt_plan']\n",
    "# df_test_dummy = pd.concat([df_test_dummy.drop('pymnt_plan', axis = 1), pd.get_dummies(df_test_dummy['pymnt_plan'], prefix = 'pymnt_plan')], axis = 1)"
   ]
  },
  {
   "cell_type": "code",
   "execution_count": 248,
   "metadata": {},
   "outputs": [],
   "source": [
    "df_test_dummy = pd.concat([df_test_dummy.drop('initial_list_status', axis = 1), pd.get_dummies(df_test_dummy['initial_list_status'], prefix = 'initial_list_status')], axis = 1)"
   ]
  },
  {
   "cell_type": "code",
   "execution_count": 249,
   "metadata": {},
   "outputs": [],
   "source": [
    "df_test_dummy = pd.concat([df_test_dummy.drop('home_ownership', axis = 1), pd.get_dummies(df_test_dummy['home_ownership'], prefix = 'home_ownership')], axis = 1)"
   ]
  },
  {
   "cell_type": "code",
   "execution_count": 250,
   "metadata": {},
   "outputs": [],
   "source": [
    "df_test_dummy = pd.concat([df_test_dummy.drop('pymnt_plan', axis = 1), pd.get_dummies(df_test_dummy['pymnt_plan'], prefix = 'pymnt_plan')], axis = 1)\n"
   ]
  },
  {
   "cell_type": "code",
   "execution_count": 251,
   "metadata": {},
   "outputs": [],
   "source": [
    "df_test_dummy = pd.concat([df_test_dummy.drop('purpose', axis = 1), pd.get_dummies(df_test_dummy['purpose'], prefix = 'purpose')], axis = 1)"
   ]
  },
  {
   "cell_type": "code",
   "execution_count": 252,
   "metadata": {},
   "outputs": [],
   "source": [
    "df_test_dummy = pd.concat([df_test_dummy.drop('addr_state', axis = 1), pd.get_dummies(df_test_dummy['addr_state'], prefix = 'addr_state')], axis = 1)\n"
   ]
  },
  {
   "cell_type": "code",
   "execution_count": 253,
   "metadata": {},
   "outputs": [],
   "source": [
    "df_test_dummy = pd.concat([df_test_dummy.drop('new_emp_title', axis = 1), pd.get_dummies(df_test_dummy['new_emp_title'], prefix = 'new_emp_title')], axis = 1)"
   ]
  },
  {
   "cell_type": "code",
   "execution_count": 256,
   "metadata": {},
   "outputs": [],
   "source": [
    "## Putting values in 'grade' with value_counts below 90000 into the category grade_EFG\n",
    "x = df_test_dummy['grade'].value_counts()\n",
    "df_test_dummy['grade_ABCD'] = np.where(df_test_dummy['grade'].isin(x.index[x >= 90000]), df_test_dummy['grade'], 'grade_EFG')"
   ]
  },
  {
   "cell_type": "code",
   "execution_count": 257,
   "metadata": {},
   "outputs": [],
   "source": [
    "## Creating dummy variables for a column 'grade'\n",
    "df_test_dummy = pd.concat([df_test_dummy.drop('grade_ABCD', axis = 1), pd.get_dummies(df_test_dummy['grade_ABCD'], prefix = 'grade_ABCD')], axis = 1)"
   ]
  },
  {
   "cell_type": "code",
   "execution_count": null,
   "metadata": {},
   "outputs": [],
   "source": [
    "## Putting values in 'grade' with value_counts below 90000 into the category grade_EFG\n",
    "x = df_test_dummy['grade'].value_counts()\n",
    "df_test_dummy['grade_ABCD'] = np.where(df_test_dummy['grade'].isin(x.index[x >= 90000]), df_test_dummy['grade'], 'grade_EFG')"
   ]
  },
  {
   "cell_type": "code",
   "execution_count": null,
   "metadata": {},
   "outputs": [],
   "source": [
    "## Creating dummy variables for a column 'grade'\n",
    "df_test_dummy = pd.concat([df_test_dummy.drop('grade_ABCD', axis = 1), pd.get_dummies(df_test_dummy['grade_ABCD'], prefix = 'grade_ABCD')], axis = 1)"
   ]
  },
  {
   "cell_type": "code",
   "execution_count": 259,
   "metadata": {},
   "outputs": [],
   "source": [
    "## Reasigning df_test_dummy to df_test_dummy_two\n",
    "df_test_dummy_two = df_test_dummy"
   ]
  },
  {
   "cell_type": "code",
   "execution_count": 261,
   "metadata": {},
   "outputs": [],
   "source": [
    "## Putting values in 'sub_grade' with value_counts below 90000 into the category grade_EFG\n",
    "x = df_test_dummy_two['sub_grade'].value_counts()\n",
    "df_test_dummy_two['sub_grade_ABCD'] = np.where(df_test_dummy_two['sub_grade'].isin(x.index[x >= 12000]), df_test_dummy_two['sub_grade'], 'sub_grade_EFG')"
   ]
  },
  {
   "cell_type": "code",
   "execution_count": 262,
   "metadata": {},
   "outputs": [],
   "source": [
    "## Creating dummy variables for a column 'sub_grade'\n",
    "df_test_dummy_two = pd.concat([df_test_dummy_two.drop('sub_grade_ABCD', axis = 1), pd.get_dummies(df_test_dummy['sub_grade_ABCD'], prefix = 'sub_grade_ABCD')], axis = 1)"
   ]
  },
  {
   "cell_type": "code",
   "execution_count": 307,
   "metadata": {},
   "outputs": [],
   "source": [
    "df_test_dummy_three = df_test_dummy_two"
   ]
  },
  {
   "cell_type": "code",
   "execution_count": null,
   "metadata": {},
   "outputs": [],
   "source": [
    "sub_to_drop_A = ['sub_grade_ABCD_A1', 'sub_grade_ABCD_A2', 'sub_grade_ABCD_A3', 'sub_grade_ABCD_A4', 'sub_grade_ABCD_A5']\n",
    "sub_to_drop_B = ['sub_grade_ABCD_B1', 'sub_grade_ABCD_B2', 'sub_grade_ABCD_B3', 'sub_grade_ABCD_B4', 'sub_grade_ABCD_B5']\n",
    "sub_to_drop_C = ['sub_grade_ABCD_C1', 'sub_grade_ABCD_C2', 'sub_grade_ABCD_C3', 'sub_grade_ABCD_C4', 'sub_grade_ABCD_C5']\n",
    "sub_to_drop_defg = ['sub_grade_ABCD_D1', 'sub_grade_ABCD_D2', 'sub_grade_ABCD_D3', 'sub_grade_ABCD_D4', 'sub_grade_ABCD_D5','sub_grade_ABCD_sub_grade_EFG']"
   ]
  },
  {
   "cell_type": "code",
   "execution_count": 308,
   "metadata": {},
   "outputs": [],
   "source": [
    "df_test_dummy_three = df_test_dummy_three.drop(sub_to_drop_A, 1)"
   ]
  },
  {
   "cell_type": "code",
   "execution_count": 309,
   "metadata": {},
   "outputs": [],
   "source": [
    "df_test_dummy_three = df_test_dummy_three.drop(sub_to_drop_B, 1)"
   ]
  },
  {
   "cell_type": "code",
   "execution_count": 310,
   "metadata": {},
   "outputs": [],
   "source": [
    "df_test_dummy_three = df_test_dummy_three.drop(sub_to_drop_C, 1)"
   ]
  },
  {
   "cell_type": "code",
   "execution_count": 311,
   "metadata": {},
   "outputs": [],
   "source": [
    "df_test_dummy_three = df_test_dummy_three.drop(sub_to_drop_defg, 1)"
   ]
  },
  {
   "cell_type": "code",
   "execution_count": 313,
   "metadata": {},
   "outputs": [],
   "source": [
    "df_test_dummy_four = df_test_dummy_three"
   ]
  },
  {
   "cell_type": "code",
   "execution_count": 323,
   "metadata": {},
   "outputs": [],
   "source": [
    "new_emp_ls = ['new_emp_title_Driver', 'new_emp_title_Manager', 'new_emp_title_Other', 'new_emp_title_Owner', 'new_emp_title_RN', 'new_emp_title_Registered Nurse', 'new_emp_title_Sales', 'new_emp_title_Supervisor', 'new_emp_title_Teacher']"
   ]
  },
  {
   "cell_type": "code",
   "execution_count": 324,
   "metadata": {},
   "outputs": [],
   "source": [
    "df_test_dummy_four = df_test_dummy_four.drop(new_emp_ls, 1)"
   ]
  },
  {
   "cell_type": "code",
   "execution_count": 331,
   "metadata": {},
   "outputs": [],
   "source": [
    "df_test_dummy_five = df_test_dummy_four.drop('application_type', 1)"
   ]
  },
  {
   "cell_type": "code",
   "execution_count": 333,
   "metadata": {},
   "outputs": [],
   "source": [
    "df_test_dummy_five = df_test_dummy_five.drop('verification_status', 1)"
   ]
  },
  {
   "cell_type": "code",
   "execution_count": 353,
   "metadata": {},
   "outputs": [],
   "source": [
    "df_test_dummy_six = df_test_dummy_five"
   ]
  },
  {
   "cell_type": "code",
   "execution_count": 354,
   "metadata": {},
   "outputs": [],
   "source": [
    "dummy_six_drop_ls = ['grade', 'sub_grade']\n",
    "df_test_dummy_six = df_test_dummy_six.drop(dummy_six_drop_ls, 1)"
   ]
  },
  {
   "cell_type": "code",
   "execution_count": null,
   "metadata": {},
   "outputs": [],
   "source": [
    "df_test_dummy_six"
   ]
  },
  {
   "cell_type": "code",
   "execution_count": null,
   "metadata": {},
   "outputs": [],
   "source": []
  },
  {
   "cell_type": "code",
   "execution_count": null,
   "metadata": {},
   "outputs": [],
   "source": [
    "## ### predictor variable ### ### 'loan_status' ###"
   ]
  },
  {
   "cell_type": "code",
   "execution_count": null,
   "metadata": {},
   "outputs": [],
   "source": []
  },
  {
   "cell_type": "code",
   "execution_count": 356,
   "metadata": {},
   "outputs": [],
   "source": [
    "x = df_test_dummy_six['loan_status'].value_counts()\n",
    "df_test_dummy_six['loan_status_current'] = np.where(df_test_dummy_six['loan_status'].isin(x.index[x >= 100000]), df_test_dummy_six['loan_status'], 'Current')"
   ]
  },
  {
   "cell_type": "code",
   "execution_count": 357,
   "metadata": {},
   "outputs": [],
   "source": [
    "x = df_test_dummy_six['loan_status'].value_counts()\n",
    "df_test_dummy_six['loan_status_late'] = np.where(df_test_dummy_six['loan_status'].isin(x.index[x <= 40000]), df_test_dummy_six['loan_status'], 'Late')"
   ]
  },
  {
   "cell_type": "code",
   "execution_count": 358,
   "metadata": {},
   "outputs": [],
   "source": [
    "di = {\"Current\": 0, \"Fully Paid\": 1, \"Late\": 2}"
   ]
  },
  {
   "cell_type": "code",
   "execution_count": 359,
   "metadata": {},
   "outputs": [],
   "source": [
    "df_test_dummy_six = df_test_dummy_six.replace({\"loan_status_current\": di})"
   ]
  },
  {
   "cell_type": "code",
   "execution_count": 383,
   "metadata": {},
   "outputs": [],
   "source": [
    "df_test_dummy_seven = df_test_dummy_six"
   ]
  },
  {
   "cell_type": "code",
   "execution_count": 385,
   "metadata": {},
   "outputs": [],
   "source": [
    "loan_drop = ['loan_status', 'loan_status_late']\n",
    "df_test_dummy_seven = df_test_dummy_seven.drop(loan_drop, 1)"
   ]
  },
  {
   "cell_type": "code",
   "execution_count": 386,
   "metadata": {},
   "outputs": [],
   "source": [
    "df_test_dummy_seven['loan_status_current'] = df_test_dummy_seven['loan_status_current'].astype('int64')"
   ]
  },
  {
   "cell_type": "code",
   "execution_count": 388,
   "metadata": {},
   "outputs": [],
   "source": [
    "### Exporting the cleaned testing dataset to csv\n",
    "df_test_dummy_seven.to_csv('test_clean')"
   ]
  },
  {
   "cell_type": "code",
   "execution_count": null,
   "metadata": {},
   "outputs": [],
   "source": []
  }
 ],
 "metadata": {
  "kernelspec": {
   "display_name": "Python 3",
   "language": "python",
   "name": "python3"
  },
  "language_info": {
   "codemirror_mode": {
    "name": "ipython",
    "version": 3
   },
   "file_extension": ".py",
   "mimetype": "text/x-python",
   "name": "python",
   "nbconvert_exporter": "python",
   "pygments_lexer": "ipython3",
   "version": "3.6.9"
  }
 },
 "nbformat": 4,
 "nbformat_minor": 2
}
